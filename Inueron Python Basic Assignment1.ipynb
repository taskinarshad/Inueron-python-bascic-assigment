{
 "cells": [
  {
   "cell_type": "markdown",
   "id": "eb50fa9e",
   "metadata": {},
   "source": [
    "1.In the below elements which of them are values or an expression? eg:- values can be integer or string and expressions will be mathematical operators.\n",
    "\n",
    "'hello' -87.8\n",
    "\n",
    "/\n",
    "\n",
    "6"
   ]
  },
  {
   "cell_type": "markdown",
   "id": "0fb8a416",
   "metadata": {},
   "source": [
    "=> Values- ‘hello’, -87.8, 6 Expression- *, - , / , +"
   ]
  },
  {
   "cell_type": "markdown",
   "id": "db41d322",
   "metadata": {},
   "source": [
    "2.What is the difference between string and variable?"
   ]
  },
  {
   "cell_type": "markdown",
   "id": "d188cf32",
   "metadata": {},
   "source": [
    "=> string is a data type and variable is like a container (a=4),here a is variable which store the value 4."
   ]
  },
  {
   "cell_type": "markdown",
   "id": "5b758bac",
   "metadata": {},
   "source": [
    "3.Describe three different data types."
   ]
  },
  {
   "cell_type": "markdown",
   "id": "4101b0cd",
   "metadata": {},
   "source": [
    "=> String,Integer,Float"
   ]
  },
  {
   "cell_type": "markdown",
   "id": "f8eac1f1",
   "metadata": {},
   "source": [
    "4.What is an expression made up of? What do all expressions do?"
   ]
  },
  {
   "cell_type": "markdown",
   "id": "488177dc",
   "metadata": {},
   "source": [
    "Ans1: expression is made up of operator. Ans2: All expression do some operation like addition, multiplication, subtraction etc."
   ]
  },
  {
   "cell_type": "markdown",
   "id": "e4f1417b",
   "metadata": {},
   "source": [
    "5.This assignment statements, like spam = 10. What is the difference between an expression and a statement?"
   ]
  },
  {
   "cell_type": "markdown",
   "id": "c0835ded",
   "metadata": {},
   "source": [
    "=> spam=10 ,here we can call it is a statement (spam variable is used to store the value 10 using = operator expression)and = operator is expression"
   ]
  },
  {
   "cell_type": "markdown",
   "id": "87a1ce73",
   "metadata": {},
   "source": [
    "6.After running the following code, what does the variable bacon contain? bacon = 22 bacon + 1"
   ]
  },
  {
   "cell_type": "markdown",
   "id": "dc005bca",
   "metadata": {},
   "source": [
    "=> bacon contain 22 because we increased the value of bacon but we did not assign the increased value of bacon"
   ]
  },
  {
   "cell_type": "markdown",
   "id": "a6b5af6a",
   "metadata": {},
   "source": [
    "7.What should the values of the following two terms be? 'spam' + 'spamspam' 'spam' * 3"
   ]
  },
  {
   "cell_type": "code",
   "execution_count": 104,
   "id": "523ed009",
   "metadata": {},
   "outputs": [
    {
     "data": {
      "text/plain": [
       "'spamspamspam'"
      ]
     },
     "execution_count": 104,
     "metadata": {},
     "output_type": "execute_result"
    }
   ],
   "source": [
    "'spam' * 3"
   ]
  },
  {
   "cell_type": "code",
   "execution_count": 105,
   "id": "0e949a64",
   "metadata": {},
   "outputs": [
    {
     "data": {
      "text/plain": [
       "'spamspamspam'"
      ]
     },
     "execution_count": 105,
     "metadata": {},
     "output_type": "execute_result"
    }
   ],
   "source": [
    "'spam' + 'spamspam'"
   ]
  },
  {
   "cell_type": "markdown",
   "id": "30e5d180",
   "metadata": {},
   "source": [
    "8.Why is eggs a valid variable name while 100 is invalid?"
   ]
  },
  {
   "cell_type": "markdown",
   "id": "ea089166",
   "metadata": {},
   "source": [
    "=> Because 100 is a value and eggs is not a value"
   ]
  },
  {
   "cell_type": "markdown",
   "id": "8782334c",
   "metadata": {},
   "source": [
    "9.What three functions can be used to get the integer, floating-point number, or string version of a value?"
   ]
  },
  {
   "cell_type": "markdown",
   "id": "0acf8372",
   "metadata": {},
   "source": [
    "=> Int(), float(), string()"
   ]
  },
  {
   "cell_type": "markdown",
   "id": "5dfae7d6",
   "metadata": {},
   "source": [
    "10.Why does this expression cause an error? How can you fix it? 'I have eaten ' + 99 + ' burritos.'"
   ]
  },
  {
   "cell_type": "markdown",
   "id": "b5321c20",
   "metadata": {},
   "source": [
    "=> because string and integer can not concatenate."
   ]
  },
  {
   "cell_type": "code",
   "execution_count": 106,
   "id": "aa858cb1",
   "metadata": {},
   "outputs": [
    {
     "data": {
      "text/plain": [
       "'I have eaten 99 burritos.'"
      ]
     },
     "execution_count": 106,
     "metadata": {},
     "output_type": "execute_result"
    }
   ],
   "source": [
    "'I have eaten ' + '99' + ' burritos.'"
   ]
  },
  {
   "cell_type": "code",
   "execution_count": null,
   "id": "2a5d33e4",
   "metadata": {},
   "outputs": [],
   "source": []
  }
 ],
 "metadata": {
  "kernelspec": {
   "display_name": "Python 3 (ipykernel)",
   "language": "python",
   "name": "python3"
  },
  "language_info": {
   "codemirror_mode": {
    "name": "ipython",
    "version": 3
   },
   "file_extension": ".py",
   "mimetype": "text/x-python",
   "name": "python",
   "nbconvert_exporter": "python",
   "pygments_lexer": "ipython3",
   "version": "3.9.7"
  }
 },
 "nbformat": 4,
 "nbformat_minor": 5
}
